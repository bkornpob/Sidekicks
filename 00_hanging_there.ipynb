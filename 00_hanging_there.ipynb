{
 "cells": [
  {
   "cell_type": "code",
   "execution_count": null,
   "metadata": {},
   "outputs": [],
   "source": [
    "import pysynphot as S\n",
    "\n",
    "def to_phot(spectrum_wave,spectrum_flux,obsbandpass,\n",
    "            waveunits='angstrom',fluxunits='flam',name='None',keepneg=False,\n",
    "            force=None\n",
    "           ):\n",
    "    \"\"\"\n",
    "    to_phot is a convenient function to compute photometric equivalence given a spectral profile. This routine uses pysynphot.\n",
    "    - pysynphot.ArraySpectrum(spectrum_wave,spectrum_flux,waveunits,fluxunits,name,keepneg)\n",
    "    - pysynphot.ObsBandpass(obsbandpass)\n",
    "      - obsbandpass = 'wfc3,ir,f140w' for example. Note that all lower cases.\n",
    "    - pysynphot.Observation(ArraySpectrum, ObsBandpass, force)\n",
    "      - force can be None, 'extrap', or 'taper.' Note: if keepneg = True and there is a negative element in the ArraySpectrum, this will crash.\n",
    "    The routine returns pysynphot.Observation.\n",
    "    Use return.efflam() for effective wavelength.\n",
    "    Use return.effstim('flam') for effective flam.\n",
    "    \"\"\"\n",
    "    spc = S.ArraySpectrum(spectrum_wave,spectrum_flux,waveunits,fluxunits,name,keepneg)\n",
    "    obs = S.Observation(spc,S.ObsBandpass(obsbandpass),force=force)\n",
    "    return obs\n"
   ]
  },
  {
   "cell_type": "code",
   "execution_count": null,
   "metadata": {},
   "outputs": [],
   "source": []
  },
  {
   "cell_type": "code",
   "execution_count": null,
   "metadata": {},
   "outputs": [],
   "source": []
  },
  {
   "cell_type": "code",
   "execution_count": null,
   "metadata": {},
   "outputs": [],
   "source": []
  },
  {
   "cell_type": "code",
   "execution_count": null,
   "metadata": {},
   "outputs": [],
   "source": []
  }
 ],
 "metadata": {
  "kernelspec": {
   "display_name": "Python 3",
   "language": "python",
   "name": "python3"
  },
  "language_info": {
   "codemirror_mode": {
    "name": "ipython",
    "version": 3
   },
   "file_extension": ".py",
   "mimetype": "text/x-python",
   "name": "python",
   "nbconvert_exporter": "python",
   "pygments_lexer": "ipython3",
   "version": "3.7.6"
  }
 },
 "nbformat": 4,
 "nbformat_minor": 4
}
