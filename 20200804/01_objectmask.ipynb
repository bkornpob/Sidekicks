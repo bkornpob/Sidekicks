{
 "cells": [
  {
   "cell_type": "markdown",
   "metadata": {},
   "source": [
    "20200804_01\n",
    "\n",
    "Kornpob Bhirombhakdi, kbhirombhakdi@stsci.edu\n",
    "\n",
    "# Story\n",
    "We would like to extend the function of hstgrism by creating an object mask independently. Currently, Cutout2D()._mask() is called to make an object mask given the cutout specification.\n",
    "\n",
    "# Background\n",
    "hstgrism.cutout2d.Cutout2D() is a class which makes a 2D cutout of a full image. An object mask can be created with the call. However, there are cases that a user might want to change the object mask specification during the work. It would be more convenient if this mask can be created independently.\n",
    "\n",
    "# Objectives\n",
    "- Make a class or a simple function to create an object mask by specifying:\n",
    " - trace\n",
    "   - Note that outputs from hstgrism including xyref.csv, and trace.csv can facilitate this.\n",
    " - aperture width\n",
    " - save 2D cutout\n",
    "   - nx = padxleft + (size of trace in x direction) + padxright\n",
    "   - ny = padylow + halfdylow + (size of trace in y direction) + halfdyup + padyup\n",
    " \n",
    "# Previously...\n",
    "- Object mask is created given:\n",
    " - tdata = pd.read_csv(trace.csv)\n",
    " - xg = tdata.xh + tdata.xyref[0]\n",
    " - yg = tdata.yh + tdata.xyref[1]\n",
    " - tbox = {'xg':xg,'yg':yg,'halfdyup':halfdy,'halfdylow':halfdy}\n",
    " - bbox={'padxleft': 15, 'padxright': 15, 'padyup': 15, 'padylow': 15}\n",
    " - do_mask = True\n",
    " - Then, Cutout2D()._mask() will compute, and save an output as mask.fits.\n",
    "- 20200803_02 will continue by creating different sizes of object mask for the extraction. Therefore, the product from this task is required before we can proceed.\n",
    " \n",
    "# Tasks\n",
    " - Simply make the function.\n",
    " - Test\n",
    " - Update hstgrism.cutout2d to utilize this new function, instead of using _mask()\n",
    " "
   ]
  },
  {
   "cell_type": "code",
   "execution_count": 1,
   "metadata": {},
   "outputs": [],
   "source": [
    "from hstgrism.container import Container\n",
    "from hstgrism.objectmask import ObjectMask\n",
    "from hstgrism.cutout2d import Cutout2D\n",
    "from astropy.io import fits\n",
    "import numpy as np\n",
    "import pandas as pd\n",
    "import matplotlib.pyplot as plt\n",
    "import copy\n"
   ]
  },
  {
   "cell_type": "markdown",
   "metadata": {},
   "source": [
    "The following example will use cutout.fits, trace,csv, and bbcorner.csv created from earlier steps in hstgrism pipeline."
   ]
  },
  {
   "cell_type": "code",
   "execution_count": 2,
   "metadata": {},
   "outputs": [
    {
     "name": "stdout",
     "output_type": "stream",
     "text": [
      "This verifies our setting\n"
     ]
    },
    {
     "data": {
      "image/png": "[encoded data removed]",
      "text/plain": [
       "<Figure size 432x288 with 1 Axes>"
      ]
     },
     "metadata": {
      "needs_background": "light"
     },
     "output_type": "display_data"
    }
   ],
   "source": [
    "gfile = ('../20200803/iab901ekq_GD153/iab901ekq_cutout.fits',1)\n",
    "gdata = fits.open(gfile[0])[gfile[1]].data\n",
    "\n",
    "trace = pd.read_csv('../20200803/iab901ekq_GD153/iab901ekq_trace.csv')\n",
    "bbcorner = pd.read_csv('../20200803/iab901ekq_GD153/iab901ekq_bbcorner.csv')\n",
    "xcut = trace.xh + trace.xyref[0] - bbcorner.bb0x[0]\n",
    "ycut = trace.yh + trace.xyref[1] - bbcorner.bb0y[0]\n",
    "\n",
    "plt.imshow(gdata,origin='lower')\n",
    "plt.plot(xcut,ycut,'r:')\n",
    "\n",
    "print('This verifies our setting')\n"
   ]
  },
  {
   "cell_type": "code",
   "execution_count": 3,
   "metadata": {},
   "outputs": [
    {
     "name": "stdout",
     "output_type": "stream",
     "text": [
      "This verifies our function\n"
     ]
    },
    {
     "data": {
      "image/png": "[encoded data removed]",
      "text/plain": [
       "<Figure size 432x288 with 1 Axes>"
      ]
     },
     "metadata": {
      "needs_background": "light"
     },
     "output_type": "display_data"
    }
   ],
   "source": [
    "ny,nx = gdata.shape\n",
    "tx,ty = xcut,ycut\n",
    "halfdyup,halfdylow = 20,20\n",
    "maskobj = ObjectMask(nx,ny,tx,ty,halfdyup,halfdylow)\n",
    "maskobj.compute()\n",
    "plt.imshow(maskobj.mask,origin='lower')\n",
    "print('This verifies our function')\n"
   ]
  },
  {
   "cell_type": "code",
   "execution_count": 4,
   "metadata": {},
   "outputs": [
    {
     "name": "stdout",
     "output_type": "stream",
     "text": [
      "Save ./01_objectmask/test_mask.fits\n",
      "This saves the mask image\n"
     ]
    },
    {
     "name": "stderr",
     "output_type": "stream",
     "text": [
      "/Users/kbhirombhakdi/anaconda3/envs/py3/lib/python3.7/site-packages/hstgrism/container.py:31: UserWarning: Folder 01_objectmask already exists. To create a fresh folder, set overwrite = True\n",
      "  warnings.warn(string)\n"
     ]
    }
   ],
   "source": [
    "savefolder = '01_objectmask'\n",
    "saveprefix = 'test'\n",
    "plotformat = 'pdf'\n",
    "overwrite = False\n",
    "containerobj = Container(saveprefix,savefolder,plotformat,overwrite)\n",
    "maskobj.save(containerobj)\n",
    "print('This saves the mask image')\n"
   ]
  },
  {
   "cell_type": "code",
   "execution_count": 5,
   "metadata": {},
   "outputs": [
    {
     "data": {
      "text/plain": [
       "array([ 0,  0,  0,  0,  0,  0,  0,  0,  0,  0,  0,  0,  0,  0,  0, 41, 41,\n",
       "       41, 41, 41, 41, 41, 41, 41, 41, 41, 41, 41, 41, 41, 41, 41, 41, 41,\n",
       "       41, 41, 41, 41, 41, 41, 41, 41, 41, 41, 41, 41, 41, 41, 41, 41, 41,\n",
       "       41, 41, 41, 41, 41, 41, 41, 41, 41, 41, 41, 41, 41, 41, 41, 41, 41,\n",
       "       41, 41, 41, 41, 41, 41, 41, 41, 41, 41, 41, 41, 41, 41, 41, 41, 41,\n",
       "       41, 41, 41, 41, 41, 41, 41, 41, 41, 41, 41, 41, 41, 41, 41, 41, 41,\n",
       "       41, 41, 41, 41, 41, 41, 41, 41, 41, 41, 41, 41, 41, 41, 41, 41, 41,\n",
       "       41, 41, 41, 41, 41, 41, 41, 41, 41, 41, 41, 41, 41, 41, 41, 41, 41,\n",
       "       41, 41, 41, 41, 41, 41, 41, 41, 41, 41, 41, 41, 41, 41, 41, 41, 41,\n",
       "       41, 41, 41, 41, 41, 41, 41, 41, 41, 41, 41, 41, 41, 41, 41, 41, 41,\n",
       "       41, 41, 41, 41, 41, 41, 41, 41, 41, 41, 41, 41, 41, 41, 41, 41, 41,\n",
       "       41, 41, 41, 41, 41, 41, 41, 41, 41, 41, 41, 41, 41, 41, 41, 41, 41,\n",
       "       41, 41, 41, 41, 41, 41, 41, 41, 41, 41, 41, 41, 41, 41, 41, 41, 41,\n",
       "       41, 41, 41, 41, 41, 41, 41, 41, 41, 41, 41, 41, 41, 41, 41, 41, 41,\n",
       "       41, 41,  0,  0,  0,  0,  0,  0,  0,  0,  0,  0,  0,  0,  0,  0,  0])"
      ]
     },
     "execution_count": 5,
     "metadata": {},
     "output_type": "execute_result"
    }
   ],
   "source": [
    "# sanity check, this should give halfdyup + 1 + halfdylow within the object region, \n",
    "# and zero otherwise\n",
    "maskobj.mask.sum(axis=0)\n"
   ]
  },
  {
   "cell_type": "code",
   "execution_count": 6,
   "metadata": {},
   "outputs": [
    {
     "name": "stdout",
     "output_type": "stream",
     "text": [
      "Save ./01_objectmask/test2_tbox.csv\n",
      "Save ./01_objectmask/test2_bbox.csv\n",
      "Save ./01_objectmask/test2_bbcorner.csv\n",
      "Save ./01_objectmask/test2_cutout.fits\n",
      "Save ./01_objectmask/test2_mask.fits\n",
      "This verifies the change is correct\n"
     ]
    },
    {
     "data": {
      "image/png": "[encoded data removed]",
      "text/plain": [
       "<Figure size 432x288 with 1 Axes>"
      ]
     },
     "metadata": {
      "needs_background": "light"
     },
     "output_type": "display_data"
    },
    {
     "data": {
      "image/png": "[encoded data removed]",
      "text/plain": [
       "<Figure size 432x288 with 1 Axes>"
      ]
     },
     "metadata": {
      "needs_background": "light"
     },
     "output_type": "display_data"
    }
   ],
   "source": [
    "# Check if the change in Cutout2D is correct\n",
    "gfile = ('../20200803/iab901ekq_GD153/iab901ekq_flt.fits',1)\n",
    "xg = trace.xh + trace.xyref[0]\n",
    "yg = trace.yh + trace.xyref[1]\n",
    "halfdy = 20\n",
    "tbox = {'xg':xg,'yg':yg,'halfdyup':halfdy,'halfdylow':halfdy}\n",
    "bbox={'padxleft': 15, 'padxright': 15, 'padyup': 15, 'padylow': 15}\n",
    "image = fits.open(gfile[0])[gfile[1]].data\n",
    "do_mask = True\n",
    "containerobj_new = copy.deepcopy(containerobj)\n",
    "containerobj_new.data['saveprefix'] = 'test2'\n",
    "cutoutobj = Cutout2D(tbox,bbox,image,containerobj_new)\n",
    "cutoutobj.compute(do_mask)\n",
    "cutoutobj.save()\n",
    "\n",
    "a = containerobj.data['savefolder']\n",
    "b = containerobj.data['saveprefix']\n",
    "string1 = './{0}/{1}_mask.fits'.format(a,b)\n",
    "t1 = fits.open(string1)[1].data\n",
    "plt.figure(),plt.imshow(t1,origin='lower'),plt.title(string1)\n",
    "a = containerobj_new.data['savefolder']\n",
    "b = containerobj_new.data['saveprefix']\n",
    "string2 = './{0}/{1}_mask.fits'.format(a,b)\n",
    "t2 = fits.open(string2)[1].data\n",
    "plt.figure(),plt.imshow(t2,origin='lower'),plt.title(string2)\n",
    "\n",
    "print('This verifies the change is correct')\n"
   ]
  },
  {
   "cell_type": "markdown",
   "metadata": {},
   "source": [
    "# Summary\n",
    "ObjectMask performs as we want. hstgrism is updated with this change. However, the interface of Cutout2D does not change. We can continue with the task from 20200803_02 using this new function.\n"
   ]
  },
  {
   "cell_type": "code",
   "execution_count": null,
   "metadata": {},
   "outputs": [],
   "source": []
  }
 ],
 "metadata": {
  "kernelspec": {
   "display_name": "Python 3",
   "language": "python",
   "name": "python3"
  },
  "language_info": {
   "codemirror_mode": {
    "name": "ipython",
    "version": 3
   },
   "file_extension": ".py",
   "mimetype": "text/x-python",
   "name": "python",
   "nbconvert_exporter": "python",
   "pygments_lexer": "ipython3",
   "version": "3.7.6"
  }
 },
 "nbformat": 4,
 "nbformat_minor": 4
}
