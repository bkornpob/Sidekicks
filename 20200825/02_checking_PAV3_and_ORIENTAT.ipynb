{
 "cells": [
  {
   "cell_type": "markdown",
   "metadata": {},
   "source": [
    "Kornpob Bhirombhakdi, kbhirombhakdi@stsci.edu\n",
    "\n",
    "# Story\n",
    "We will explore PA_V3 and ORIENTAT of direct-grism pairs from PID 15089, 15510, and 16042. We would like to know if changing these values within the same dither is common, and if this would affect trace mapping or drizzling process.\n",
    "\n",
    "# Previously\n",
    "20200825/01 explored header summary of a dataset from PID 16042, and output in 20200825/01_16042_hsum. We noticed that PA_V3 and ORIENTAT are not constant given the same dithering set. We were uncertain if this is normal, or if this would affect grism reduction process.\n",
    "\n",
    "# Resources\n",
    "- hstgrism.headersummary.HeaderSummary\n",
    "- Datasets from PID 15089, 15510, and 16042.\n"
   ]
  },
  {
   "cell_type": "code",
   "execution_count": 4,
   "metadata": {},
   "outputs": [],
   "source": [
    "from hstgrism.headersummary import HeaderSummary\n",
    "from hstgrism.container import Container\n",
    "import glob\n",
    "import pandas as pd\n"
   ]
  },
  {
   "cell_type": "code",
   "execution_count": 5,
   "metadata": {},
   "outputs": [
    {
     "name": "stdout",
     "output_type": "stream",
     "text": [
      "Save ./02_15089_hsum/02_15089_hsum_hsum.csv\n"
     ]
    }
   ],
   "source": [
    "t = glob.glob('/Users/kbhirombhakdi/_work/_data/15089/mastDownload/HST/*/*flt.fits')\n",
    "tl = []\n",
    "for i in t:\n",
    "    tt = HeaderSummary((i,1))\n",
    "    tt.fetch()\n",
    "    tl.append(tt)\n",
    "hsumobj = HeaderSummary(None).combine(tl)\n",
    "t = pd.DataFrame(hsumobj).sort_values(by=['EXPSTART'])\n",
    "hsumobj = t.to_dict(orient='list')\n",
    "identifier = '02_15089_hsum'\n",
    "cobj = Container(identifier,identifier,'pdf',False)\n",
    "HeaderSummary(None).save(cobj,hsumobj)\n",
    "    "
   ]
  },
  {
   "cell_type": "code",
   "execution_count": 6,
   "metadata": {},
   "outputs": [
    {
     "name": "stdout",
     "output_type": "stream",
     "text": [
      "Save ./02_15510_hsum/02_15510_hsum_hsum.csv\n"
     ]
    }
   ],
   "source": [
    "t = glob.glob('/Users/kbhirombhakdi/_work/_data/15510/mastDownload/HST/*/*flt.fits')\n",
    "tl = []\n",
    "for i in t:\n",
    "    tt = HeaderSummary((i,1))\n",
    "    tt.fetch()\n",
    "    tl.append(tt)\n",
    "hsumobj = HeaderSummary(None).combine(tl)\n",
    "t = pd.DataFrame(hsumobj).sort_values(by=['EXPSTART'])\n",
    "hsumobj = t.to_dict(orient='list')\n",
    "identifier = '02_15510_hsum'\n",
    "cobj = Container(identifier,identifier,'pdf',False)\n",
    "HeaderSummary(None).save(cobj,hsumobj)\n",
    "    "
   ]
  },
  {
   "cell_type": "markdown",
   "metadata": {},
   "source": [
    "# Summary\n",
    "In all PIDs, both PA_V3 and ORIENTAT can changed ~0.0001 in the same dithering group. Since we have never noticed such the problem before while dealing both 15089 and 15510, we assume that this is negligible.\n"
   ]
  },
  {
   "cell_type": "code",
   "execution_count": null,
   "metadata": {},
   "outputs": [],
   "source": []
  }
 ],
 "metadata": {
  "kernelspec": {
   "display_name": "Python 3",
   "language": "python",
   "name": "python3"
  },
  "language_info": {
   "codemirror_mode": {
    "name": "ipython",
    "version": 3
   },
   "file_extension": ".py",
   "mimetype": "text/x-python",
   "name": "python",
   "nbconvert_exporter": "python",
   "pygments_lexer": "ipython3",
   "version": "3.7.6"
  }
 },
 "nbformat": 4,
 "nbformat_minor": 4
}
