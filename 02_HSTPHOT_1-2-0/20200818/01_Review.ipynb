{
 "cells": [
  {
   "cell_type": "markdown",
   "metadata": {},
   "source": [
    "Kornpob Bhirombhakdi, kbhirombhakdi@stsci.edu\n",
    "\n",
    "# Story\n",
    "We would like to perform modelling grism emission instead of pixel extraction. Our main goal is to perform contamination removal from GRB 190829A data we have.\n",
    "\n",
    "# Previously\n",
    "Grism observation from HST is typically extracted by using pixel values, which is highly sensitive to fluctuation pixel-by-pixel as well as local noise such as cosmic rays and bad pixels. Using an emission model such as Gaussian will be stable, and can be benefits in various aspects such as:\n",
    "- We can apply smaller aperture width in the extraction.\n",
    "- We can perform line contamination removal.\n",
    "- We can develop more sophisticated extraction algorithm such as forward modelling.\n",
    "\n",
    "We note that [aXe software](https://www.stsci.edu/scientific-community/software/axe), as the standard HST grism extraction software, performs contamination modelling using Gaussian emission and Flux Cube model. \n",
    "\n",
    "# Here\n",
    "We will review related ISRs, software (such as [aXe](https://www.stsci.edu/scientific-community/software/axe)) document, and codes to get some ideas of important resources.\n"
   ]
  },
  {
   "cell_type": "markdown",
   "metadata": {},
   "source": [
    "# ISRs\n",
    "\n",
    "| ISR WFC3 # | Short summary | Useful for? |\n",
    "| :- | :- | :- | \n",
    "| [2009-17](https://www.stsci.edu/files/live/sites/www/files/home/hst/instrumentation/wfc3/documentation/instrument-science-reports-isrs/_documents/2009/WFC3-2009-17.pdf) | SMOV G141 | Cross dispersion PSF of G141 measured as FWHM given Gaussian emission |\n",
    "| [2009-18](https://www.stsci.edu/files/live/sites/www/files/home/hst/instrumentation/wfc3/documentation/instrument-science-reports-isrs/_documents/2009/WFC3-2009-18.pdf) | SMOV G102 | Cross dispersion PSF of G102, similar to 2009-17 |\n"
   ]
  },
  {
   "cell_type": "markdown",
   "metadata": {},
   "source": [
    "# Articles\n",
    "- A01 [Wayne -- A Simulator for HST WFC3 IR Grism Spectroscopy](https://ui.adsabs.harvard.edu/abs/2017ApJS..231...13V/abstract)\n",
    "- A02 [Simulating Slitless Spectroscopic Images with aXeSIM](https://www.spacetelescope.org/static/archives/stecfnewsletters/pdf/hst_stecf_0043.pdf)\n",
    "- A03 [The Slitless Spectroscopy Data Extraction Software aXe](https://www.eso.org/~hkuntsch/papers/PASP_121_59.pdf): This paper looks similar to aXe manual. However, Fig. 6 in the paper shows the contamination estimation, which is more useful and unavailable in the aXe manual.\n",
    "- A04 [Slitless Spectroscopic Simulations for Euclid with aXeSIM](https://www.researchgate.net/publication/237293657_Slitless_Spectroscopic_Simulations_for_Euclid_with_aXeSIM)\n",
    "- A05 [The WFC3 IR Grism Data Reduction Cookbook](https://citeseerx.ist.psu.edu/viewdoc/download?doi=10.1.1.303.8244&rep=rep1&type=pdf): It has discussion about aXeSIM parameters, and somewhat more details about contamination model than provided in aXe manual.\n"
   ]
  },
  {
   "cell_type": "markdown",
   "metadata": {},
   "source": [
    "# ETC.\n",
    "- E01 [Tom Greene's Github](https://github.com/tomgreene/NIRCam_grism_sims)\n",
    "- E02 [Martin Kummel's poster about aXe](https://projects.ics.forth.gr/ada5/pdf_files/Kuemmel_poster.pdf)\n"
   ]
  },
  {
   "cell_type": "markdown",
   "metadata": {},
   "source": [
    "# Summary\n",
    "- Gaussian emission model is a fundamental form to model grism emission. This requires FWHM which also shows to be wavelength dependent. A01 provides a functional form to estimate FWHM for WFC3 IR both G102 and G141. ISRs WFC3 2009-17 and 2009-18 provide the same information but from SMOV.\n",
    "- Simulation software such as aXeSIM or Wayne (A01) might be a good starting point.\n"
   ]
  },
  {
   "cell_type": "markdown",
   "metadata": {},
   "source": [
    "# Ideas\n",
    "- Since we would like to perform contamination removal on GRB 190829A data we have, ideally, we would like to go from the input as observed emission from an image to emission model.\n",
    "- Test if given spectral profile (such as GD153), can we simulate observation?\n",
    " - Try with GD153 to get some ideas of FWHM.\n",
    " "
   ]
  },
  {
   "cell_type": "code",
   "execution_count": null,
   "metadata": {},
   "outputs": [],
   "source": []
  },
  {
   "cell_type": "markdown",
   "metadata": {},
   "source": []
  }
 ],
 "metadata": {
  "kernelspec": {
   "display_name": "Python 3",
   "language": "python",
   "name": "python3"
  },
  "language_info": {
   "codemirror_mode": {
    "name": "ipython",
    "version": 3
   },
   "file_extension": ".py",
   "mimetype": "text/x-python",
   "name": "python",
   "nbconvert_exporter": "python",
   "pygments_lexer": "ipython3",
   "version": "3.7.6"
  }
 },
 "nbformat": 4,
 "nbformat_minor": 4
}
