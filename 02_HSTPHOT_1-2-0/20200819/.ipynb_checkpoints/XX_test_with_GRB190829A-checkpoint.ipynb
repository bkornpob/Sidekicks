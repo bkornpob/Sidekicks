{
 "cells": [
  {
   "cell_type": "markdown",
   "metadata": {},
   "source": [
    "Kornpob Bhirombhakdi, kbhirombhakdi@stsci.edu\n",
    "\n",
    "# Story\n",
    "We would like to perform contamination removal from the field of GRB 190829A in epochs 201909 and 201910 for both G102 and G141. G102 at epoch 201910 is the most severely contaminated among these.\n",
    "\n",
    "# Previously\n",
    "20200818 did review of resources for this task. Gaussian model for a grism object is a standard analytical form. FWHM is the key parameter for this approach. FWHM can be computed by using an object's shape from its direct image (which is done in [aXe](https://www.stsci.edu/scientific-community/software/axe)), using analytical form (i.e., [Wayne](https://ui.adsabs.harvard.edu/abs/2017ApJS..231...13V/abstract)), or the grism object itself (e.g., ISRs [WFC3-2009-17](https://www.stsci.edu/files/live/sites/www/files/home/hst/instrumentation/wfc3/documentation/instrument-science-reports-isrs/_documents/2009/WFC3-2009-17.pdf) and [WFC3-2009-18](https://www.stsci.edu/files/live/sites/www/files/home/hst/instrumentation/wfc3/documentation/instrument-science-reports-isrs/_documents/2009/WFC3-2009-18.pdf)).\n",
    "\n",
    "# What's in this file?\n",
    "We would like to go ahead and try with GRB 190829A case in order to understand more of the current situation. We will use 201910 G102. Let's name the contamination X01, locating at xyd = (620.36497-1,541.27546-1) (Note: minus 1 to fix the indexing between ds9 region format and python).\n",
    "\n",
    "# What to do?\n",
    "We will try to answer these questions which should give us a better idea how to approach this problem:\n",
    "- Q01: Is X01 stable over time? To do this, we will check our direct images for its photometric property.\n",
    " - If yes, Q02: Can we extract its G102 from other epochs as a template to remove itself from the other epochs? To do this, we would ideally want at 2D image of its grism as a template for subtraction.\n",
    " - If no, we will think of something else.\n"
   ]
  },
  {
   "cell_type": "code",
   "execution_count": 1,
   "metadata": {},
   "outputs": [
    {
     "ename": "ModuleNotFoundError",
     "evalue": "No module named 'hstphot'",
     "output_type": "error",
     "traceback": [
      "\u001b[0;31m---------------------------------------------------------------------------\u001b[0m",
      "\u001b[0;31mModuleNotFoundError\u001b[0m                       Traceback (most recent call last)",
      "\u001b[0;32m<ipython-input-1-ad5ef3246ed8>\u001b[0m in \u001b[0;36m<module>\u001b[0;34m\u001b[0m\n\u001b[0;32m----> 1\u001b[0;31m \u001b[0;32mfrom\u001b[0m \u001b[0mhstphot\u001b[0m\u001b[0;34m.\u001b[0m\u001b[0mcontainer\u001b[0m \u001b[0;32mimport\u001b[0m \u001b[0mContainer\u001b[0m\u001b[0;34m\u001b[0m\u001b[0;34m\u001b[0m\u001b[0m\n\u001b[0m\u001b[1;32m      2\u001b[0m \u001b[0;32mfrom\u001b[0m \u001b[0mastropy\u001b[0m\u001b[0;34m.\u001b[0m\u001b[0mio\u001b[0m \u001b[0;32mimport\u001b[0m \u001b[0mfits\u001b[0m\u001b[0;34m\u001b[0m\u001b[0;34m\u001b[0m\u001b[0m\n\u001b[1;32m      3\u001b[0m \u001b[0;32mimport\u001b[0m \u001b[0mpandas\u001b[0m \u001b[0;32mas\u001b[0m \u001b[0mpd\u001b[0m\u001b[0;34m\u001b[0m\u001b[0;34m\u001b[0m\u001b[0m\n\u001b[1;32m      4\u001b[0m \u001b[0;32mimport\u001b[0m \u001b[0mnumpy\u001b[0m \u001b[0;32mas\u001b[0m \u001b[0mnp\u001b[0m\u001b[0;34m\u001b[0m\u001b[0;34m\u001b[0m\u001b[0m\n\u001b[1;32m      5\u001b[0m \u001b[0;32mimport\u001b[0m \u001b[0mmatplotlib\u001b[0m\u001b[0;34m.\u001b[0m\u001b[0mpyplot\u001b[0m \u001b[0;32mas\u001b[0m \u001b[0mplt\u001b[0m\u001b[0;34m\u001b[0m\u001b[0;34m\u001b[0m\u001b[0m\n",
      "\u001b[0;31mModuleNotFoundError\u001b[0m: No module named 'hstphot'"
     ]
    }
   ],
   "source": [
    "from hstphot.container import Container\n",
    "from astropy.io import fits\n",
    "import pandas as pd\n",
    "import numpy as np\n",
    "import matplotlib.pyplot as plt\n"
   ]
  },
  {
   "cell_type": "code",
   "execution_count": null,
   "metadata": {},
   "outputs": [],
   "source": []
  }
 ],
 "metadata": {
  "kernelspec": {
   "display_name": "Python 3",
   "language": "python",
   "name": "python3"
  },
  "language_info": {
   "codemirror_mode": {
    "name": "ipython",
    "version": 3
   },
   "file_extension": ".py",
   "mimetype": "text/x-python",
   "name": "python",
   "nbconvert_exporter": "python",
   "pygments_lexer": "ipython3",
   "version": "3.7.3"
  }
 },
 "nbformat": 4,
 "nbformat_minor": 4
}
