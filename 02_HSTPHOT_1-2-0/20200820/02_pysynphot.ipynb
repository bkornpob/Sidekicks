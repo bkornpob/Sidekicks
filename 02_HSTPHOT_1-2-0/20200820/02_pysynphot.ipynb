{
 "cells": [
  {
   "cell_type": "markdown",
   "metadata": {},
   "source": [
    "Kornpob Bhirombhakdi, kbhirombhakdi@stsci.edu\n",
    "\n",
    "# Story\n",
    "We would like to develop a code that can read PYSYN_CDBS spectrum of a standard object, and convert it into photometric equivalent given observation bandpass. We would like to perform this specifically on GD153 spectrum.\n",
    "\n",
    "# Previously\n",
    "We would like to perform contamination removal of the object X01 on GRB 190829A at epochs 201909 and 201910. To do this, we would like to first to check whether X01 is a stable star by using its photometric property. We started to develop HSTPHOT, and would like to apply to GD153 as a test case. However, we need another code to transform GD153's spectral profile into photometric equivalence.\n",
    "\n",
    "# Resources\n",
    "- [pysynphot](https://pysynphot.readthedocs.io/en/latest/)\n"
   ]
  },
  {
   "cell_type": "code",
   "execution_count": 1,
   "metadata": {},
   "outputs": [],
   "source": [
    "import pysynphot as S\n",
    "\n",
    "def to_phot(spectrum_wave,spectrum_flux,obsbandpass,\n",
    "            waveunits='angstrom',fluxunits='flam',name='None',keepneg=False,\n",
    "            force=None\n",
    "           ):\n",
    "    \"\"\"\n",
    "    to_phot is a convenient function to compute photometric equivalence given a spectral profile. This routine uses pysynphot.\n",
    "    - pysynphot.ArraySpectrum(spectrum_wave,spectrum_flux,waveunits,fluxunits,name,keepneg)\n",
    "    - pysynphot.ObsBandpass(obsbandpass)\n",
    "      - obsbandpass = 'wfc3,ir,f140w' for example. Note that all lower cases.\n",
    "    - pysynphot.Observation(ArraySpectrum, ObsBandpass, force)\n",
    "      - force can be None, 'extrap', or 'taper.' Note: if keepneg = True and there is a negative element in the ArraySpectrum, this will crash.\n",
    "    The routine returns pysynphot.Observation.\n",
    "    Use return.efflam() for effective wavelength.\n",
    "    Use return.effstim('flam') for effective flam.\n",
    "    \"\"\"\n",
    "    spc = S.ArraySpectrum(spectrum_wave,spectrum_flux,waveunits,fluxunits,name,keepneg)\n",
    "    obs = S.Observation(spc,S.ObsBandpass(obsbandpass),force=force)\n",
    "    return obs\n"
   ]
  },
  {
   "cell_type": "code",
   "execution_count": 2,
   "metadata": {},
   "outputs": [],
   "source": [
    "from astropy.io import fits\n",
    "import numpy as np\n",
    "import matplotlib.pyplot as plt\n"
   ]
  },
  {
   "cell_type": "code",
   "execution_count": 3,
   "metadata": {},
   "outputs": [
    {
     "name": "stdout",
     "output_type": "stream",
     "text": [
      "Filename: /Users/kbhirombhakdi/_work/_calib_files/PYSYN_CDBS/calspec/gd153_mod_010.fits\n",
      "No.    Name      Ver    Type      Cards   Dimensions   Format\n",
      "  0  PRIMARY       1 PrimaryHDU      35   ()      \n",
      "  1  SCI           1 BinTableHDU     19   174246R x 2C   [1D, 1E]   \n"
     ]
    }
   ],
   "source": [
    "filepath = '/Users/kbhirombhakdi/_work/_calib_files/PYSYN_CDBS/calspec/gd153_mod_010.fits'\n",
    "t = fits.open(filepath)\n",
    "t.info()\n"
   ]
  },
  {
   "cell_type": "code",
   "execution_count": 4,
   "metadata": {},
   "outputs": [],
   "source": [
    "spectrum_wave = t[1].data.WAVELENGTH.copy()\n",
    "spectrum_flux = t[1].data.FLUX.copy()\n",
    "obsbandpass = 'wfc3,ir,f098m'\n",
    "t = to_phot(spectrum_wave,spectrum_flux,obsbandpass)\n"
   ]
  },
  {
   "cell_type": "code",
   "execution_count": 5,
   "metadata": {},
   "outputs": [
    {
     "data": {
      "text/plain": [
       "[<matplotlib.lines.Line2D at 0x11f0aaa50>]"
      ]
     },
     "execution_count": 5,
     "metadata": {},
     "output_type": "execute_result"
    },
    {
     "data": {
      "image/png": "[encoded data removed]",
      "text/plain": [
       "<Figure size 432x288 with 1 Axes>"
      ]
     },
     "metadata": {
      "needs_background": "light"
     },
     "output_type": "display_data"
    }
   ],
   "source": [
    "wavebound = (8000.,12000.)\n",
    "m = np.argwhere((spectrum_wave >= wavebound[0])&(spectrum_wave <= wavebound[1])).flatten()\n",
    "tx,ty = spectrum_wave[m],spectrum_flux[m]\n",
    "plt.plot(tx,ty)\n",
    "plt.plot(t.efflam(),t.effstim('flam'),'x')\n"
   ]
  },
  {
   "cell_type": "markdown",
   "metadata": {},
   "source": [
    "# Summary\n",
    "This Notebook provided to_phot() as a convenient function to compute photometric equivalence given spectral profile. This routine uses pysynphot. An example above showed how the function works.\n"
   ]
  },
  {
   "cell_type": "code",
   "execution_count": null,
   "metadata": {},
   "outputs": [],
   "source": []
  }
 ],
 "metadata": {
  "kernelspec": {
   "display_name": "Python 3",
   "language": "python",
   "name": "python3"
  },
  "language_info": {
   "codemirror_mode": {
    "name": "ipython",
    "version": 3
   },
   "file_extension": ".py",
   "mimetype": "text/x-python",
   "name": "python",
   "nbconvert_exporter": "python",
   "pygments_lexer": "ipython3",
   "version": "3.7.6"
  }
 },
 "nbformat": 4,
 "nbformat_minor": 4
}
