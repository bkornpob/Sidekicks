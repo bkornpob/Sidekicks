{
 "cells": [
  {
   "cell_type": "markdown",
   "metadata": {},
   "source": [
    "Kornpob Bhirombhakdi, kbhirombhakdi@stsci.edu\n",
    "\n",
    "# Story\n",
    "We will study the [materials provided by INS](https://innerspace.stsci.edu/spaces/viewspace.action?key=INSTL) about photometry.\n",
    "\n",
    "# Previously\n",
    "We were on the task to perform contamination removal on the field of GRB 190829A at epochs 201909 and 201910. The plan was to investigate if the contaminating object X01 could be considered as a stable star by looking at its photometric property. Therefore, we diverted our effort to develop a pipeline through HSTPHOT package, which should yield better productivity in a long run. However, we encountered several issues as noted in the previous report (20200819). On the same day, INS released training modules of which aperture photometry is one of them. So, we thought that checking the module might be a better idea.\n",
    "\n",
    "# Resouces\n",
    "- [INS training library](https://innerspace.stsci.edu/spaces/viewspace.action?key=INSTL)\n",
    " - [Photometry](https://innerspace.stsci.edu/display/INSTL/Photometry): it has both slide presentation and self-study Notebook.\n",
    " - [Drizzlepac](https://innerspace.stsci.edu/display/INSTL/Using+DrizzlePac)\n",
    " - [Basic Spectroscopy](https://innerspace.stsci.edu/display/INSTL/Basic+Spectroscopy)\n",
    " - [Synthetic Photometry](https://innerspace.stsci.edu/display/INSTL/Synthetic+Photometry)\n",
    " - [Python for Scientific Data Analysis](https://innerspace.stsci.edu/display/INSTL/Python+for+Scientific+Data+Analysis)\n"
   ]
  },
  {
   "cell_type": "markdown",
   "metadata": {},
   "source": [
    "# Photometry: PDF Slide Presentation\n",
    "- Slide 5: it mentions that ACS zeropoints were calibrated with drz products. If using flt, drz = flt * PAM / exptime.\n",
    "- Slide 5: it notifies complication with computing phot errors: 'DRZ images in cps must be multiplies by EXPTIME and include the background sky.' Note that drz normally removes background sky.\n",
    "- Slide 6: it explains the different definitions of Vega, ST, and AB magnitude systems.\n",
    "- Slide 7: it mentions photometric keywords in HST fits header: PHOTMODE, PHOTFLAM, PHOTZP, PHOTPLAM, PHOTBW.\n",
    "- Slide 7: it mentions formulae to apply the values of photometric keywords (PHOTFLAM, PHOTZP, and PHOTPLAM) to compute ST and AB magnitudes.\n",
    "- Slide 8: it mentions a formula to calibrate aperture photometry to absolute magnitude in ST system.\n",
    "- Slide 9: it mentions how aperture correction plays roles in calibration. It also mentions that 'encircled energy curves should be used ... when it is otherwise impossible to determine such corrections directly from the image.' Also, the correction is a function of time and location on the chip.\n",
    "- Slide 11: it mentions hourly variation of PSF FWHM of HST.\n",
    "- Slide 14-16 mention CTE correction particularly for ACS/WFC and WFC3/UVIS. Note that WFC3/IR is typically not affected much by this problem.\n"
   ]
  },
  {
   "cell_type": "markdown",
   "metadata": {},
   "source": [
    "# Photometry: Notebook Tutorial\n",
    "- It uses photutils as a main package for performing photometry.\n",
    "- It does source detection using DAOStarFinder in photutils.\n",
    "- It does aperture photometry using background estimation from an annulus around each object.\n",
    "- Cell 15: Convert flux to mag using -2.5*np.log10(flux).\n",
    "- Cell 16 - 18: Compute aperture correction by\n",
    " - Selecting only good stars by using bounding box + sigma clipping.\n",
    " - Correcting magnitude measured with aperture radius 3 to be radius 5 by using the aperture correction.\n",
    " - Applying zeropoint.\n",
    "- Exercise requires images produced from [Drizzlepac training module](https://innerspace.stsci.edu/pages/viewpage.action?spaceKey=INSTL&title=Using+DrizzlePac).\n",
    " - One key point is to set mdriztab = False when specifying your own parameters during optimization.\n"
   ]
  },
  {
   "cell_type": "markdown",
   "metadata": {},
   "source": [
    "# Any idea how to fix HSTPHOT?\n",
    "- should aperture correction be applied to flt or drz? The training modules do not explicitly mention anything regarding this issue. However, from the review of WFC3 Instrument Handbook, it seems like drz is the right one.\n",
    "- how to properly compute emag? From the Photometry training module, aperture_photometry is done on the original non-subtracted image. This will provide mag and emag. Then, background contribution is subtracted separately to yield the final mag result. However, it does not add errror from the estimated background subtraction, which is understandable if one assumes negligible contribution or the subtraction being deterministic. This sounds correct according to how aperture_photometry works. Therefore, ApPhot should take both original image and background image. Then, perform aperture_photometry on the original image with correct effective gain and without background error contribution. Then, if background image is supplied, perform aperture_photometry on the background image given the same aperture radius. Output both components separately as well as subtraction. Error will come only from the original computed by the calc_total_error as the poisson source, and background contribution will provide in the calc_total_error with the right keyword.\n"
   ]
  },
  {
   "cell_type": "markdown",
   "metadata": {},
   "source": [
    "# Next\n",
    "- Let's start with developing a routine to do pysynphot. Then, apply to GD153 given bandpass that we will test the HSTPHOT with, so we have a better idea of what should be the correct result.\n",
    "- Then, we fix HSTPHOT, and test it.\n"
   ]
  },
  {
   "cell_type": "code",
   "execution_count": null,
   "metadata": {},
   "outputs": [],
   "source": []
  }
 ],
 "metadata": {
  "kernelspec": {
   "display_name": "Python 3",
   "language": "python",
   "name": "python3"
  },
  "language_info": {
   "codemirror_mode": {
    "name": "ipython",
    "version": 3
   },
   "file_extension": ".py",
   "mimetype": "text/x-python",
   "name": "python",
   "nbconvert_exporter": "python",
   "pygments_lexer": "ipython3",
   "version": "3.7.6"
  }
 },
 "nbformat": 4,
 "nbformat_minor": 4
}
