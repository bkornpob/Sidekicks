{
 "cells": [
  {
   "cell_type": "markdown",
   "metadata": {},
   "source": [
    "Kornpob Bhirombhakdi, kbhirombhakdi@stsci.edu\n",
    "\n",
    "# Story\n",
    "We would like to estimate contamination of X01 on GRB 190829A. To do this, the flow is laid out in KB's scrapbook. In summary:\n",
    "\n",
    "## Method 1\n",
    "- Use GrismApCorr table to determine light collected inside halfdyX aperture, and outside. (Note: halfdyX = extraction aperture of X01 which will not be a free variable, and will be determined by halfdyG = extraction aperture of GRB. That is halfdyG will determine which part of X01 would be considered inside and outside. Let's call grismapcorr_halfdyX_in and grismapcorr_halfdyX_out where grismapcorr_halfdyX_in + grismapcorr_halfdyX_out = 1.\n",
    "- Starting from spectral profile of X01 (i.e., wavelength, flam), \n",
    " - transform it into (xg,flam_xg) where xg is pixel location on dispersion axis (i.e., x axis for WFC3) in GRB's frame. This would require X01 trace (xg,yg,wavelength_xg_yg) on GRB frame, and discretize the spectral profile. Also, the spectral profile is assumed to be re-calibrated back to GRB frame (e.g., reddening, zshift, vpec, etc.).\n",
    " - transform flam_xg to cps_xg = flam_xg * sensitivity_xg * wwperpix_xg where sensitivity_xg is discretized sensitivity_wavelength and wwperpix_xg is straigthforward.\n",
    " - compute cps_xg\n",
    " - (to be continued)\n",
    " \n",
    "## Method 2\n",
    "- Use GrismApCorr table to bake a pixel-wise correction. This will give a 2D array of (wavelength, pixel distance along cross dispersion from trace, light collected in the pixel). Let's call this table... grism_bucket.\n",
    "- Set common wavelength grid of X01 by using GRB frame.\n",
    "- Interpolate to common X01 wavelength for both pixel-wise correction and spectral profile.\n",
    "- Use halfdy of GRB to determine the contamination region.\n",
    "- Map contamination region back to pixel-wise correction to determine contamination fraction.\n",
    "- Convolve contamination fraction with spectral profile to get contaminating flam.\n",
    "- Convert contaminating flam to contaminating cps.\n",
    "- Extract GRB cps and subtract contaminating cps to get contamination-free GRB cps.\n",
    "- Perform the rest of calibration with contamination-free GRB cps to get contamination-free GRB flam.\n",
    "\n",
    "# Note\n",
    "- We perform contamination removal on cps space, not flam space.\n",
    "- Benefit of Method 2 over 1 is that we get 2D array of pixel response from the baked pixel-wise correction which can be used for other tasks such as \n",
    "\n",
    "# Assumptions\n",
    "- X01 contamination is not removed by background estimation. To do this, regions with X01 contribution must be masked out from the estimation.\n",
    "- X01 spectral profile must be re-calibrated into GRB frame. Given our flow, this should be satisfied without additional process because we extracted X01 from 201911 and 202001 frames without dereddening or de-redshift. Since X01 and GRB locates approximately at the same WCS across observations from 201909 to 202002, we can assume that X01 profile from 201911-202001 is directly applicable to other nearby epochs.\n",
    "- We assume that flatfields across different frames have negligible effects.\n",
    "\n",
    "# What is this file?\n",
    "We will try Method 2. First, we will focus on making grism_bucket.\n"
   ]
  },
  {
   "cell_type": "code",
   "execution_count": 1,
   "metadata": {},
   "outputs": [],
   "source": [
    "from hstgrism.grismapcorr import GrismApCorr\n",
    "import numpy as np\n",
    "import matplotlib.pyplot as plt\n"
   ]
  },
  {
   "cell_type": "code",
   "execution_count": 6,
   "metadata": {},
   "outputs": [
    {
     "data": {
      "text/plain": [
       "{'ref': 'ISR WFC3-2011-05',\n",
       " 'filter': 'G102',\n",
       " 'scale': 0.13,\n",
       " 'scaleunit': 'arcsec/pix',\n",
       " 'type': 'diameter',\n",
       " 'row': 'apsize',\n",
       " 'col': 'wave',\n",
       " 'apunit': 'arcsec',\n",
       " 'apsize': array([ 0.128,  0.385,  0.641,  0.898,  1.154,  1.411,  1.667,  1.924,\n",
       "         3.719,  7.567, 12.954, 25.779]),\n",
       " 'waveunit': 'A',\n",
       " 'wave': array([ 8850.,  9350.,  9850., 10350., 10850., 11350.]),\n",
       " 'value': array([[0.459, 0.391, 0.414, 0.464, 0.416, 0.369],\n",
       "        [0.825, 0.809, 0.808, 0.811, 0.794, 0.792],\n",
       "        [0.89 , 0.889, 0.887, 0.88 , 0.875, 0.888],\n",
       "        [0.92 , 0.917, 0.916, 0.909, 0.904, 0.916],\n",
       "        [0.939, 0.937, 0.936, 0.93 , 0.925, 0.936],\n",
       "        [0.952, 0.95 , 0.95 , 0.943, 0.94 , 0.949],\n",
       "        [0.962, 0.961, 0.961, 0.954, 0.951, 0.958],\n",
       "        [0.969, 0.968, 0.969, 0.962, 0.959, 0.965],\n",
       "        [0.985, 0.984, 0.986, 0.982, 0.98 , 0.983],\n",
       "        [0.995, 0.995, 0.996, 0.991, 0.99 , 0.992],\n",
       "        [0.999, 0.999, 0.999, 0.997, 0.996, 0.995],\n",
       "        [1.   , 1.   , 1.   , 1.   , 1.   , 1.   ]]),\n",
       " 'model': None}"
      ]
     },
     "execution_count": 6,
     "metadata": {},
     "output_type": "execute_result"
    }
   ],
   "source": [
    "g102_tab = GrismApCorr().table['HST-WFC3-IR-G102']\n",
    "g102_tab\n"
   ]
  },
  {
   "cell_type": "code",
   "execution_count": 30,
   "metadata": {
    "scrolled": true
   },
   "outputs": [
    {
     "data": {
      "text/plain": [
       "array([  1.,   3.,   5.,   7.,   9.,  11.,  13.,  15.,  29.,  58., 100.,\n",
       "       198.])"
      ]
     },
     "execution_count": 30,
     "metadata": {},
     "output_type": "execute_result"
    }
   ],
   "source": [
    "apsize_pix = g102_tab['apsize'] / g102_tab['scale']\n",
    "apsize_pix = apsize_pix.round()\n",
    "apsize_pix\n"
   ]
  },
  {
   "cell_type": "code",
   "execution_count": 31,
   "metadata": {
    "scrolled": true
   },
   "outputs": [],
   "source": [
    "wavelength = g102_tab['wave'].copy()\n",
    "apcorr = g102_tab['value'].copy()"
   ]
  },
  {
   "cell_type": "code",
   "execution_count": 34,
   "metadata": {},
   "outputs": [
    {
     "data": {
      "text/plain": [
       "Text(0.5, 1.0, 'apcorr')"
      ]
     },
     "execution_count": 34,
     "metadata": {},
     "output_type": "execute_result"
    },
    {
     "data": {
      "image/png": "[encoded data removed]",
      "text/plain": [
       "<Figure size 432x288 with 1 Axes>"
      ]
     },
     "metadata": {
      "needs_background": "light"
     },
     "output_type": "display_data"
    }
   ],
   "source": [
    "plt.imshow(apcorr,origin='lower',cmap='viridis',vmin=0,vmax=1)\n",
    "plt.xlabel('wavelength')\n",
    "plt.ylabel('apsize_pix')\n",
    "plt.title('apcorr')\n"
   ]
  },
  {
   "cell_type": "code",
   "execution_count": 48,
   "metadata": {},
   "outputs": [
    {
     "data": {
      "text/plain": [
       "(<Figure size 720x720 with 1 Axes>,\n",
       " <matplotlib.image.AxesImage at 0x11a27c810>)"
      ]
     },
     "execution_count": 48,
     "metadata": {},
     "output_type": "execute_result"
    },
    {
     "data": {
      "image/png": "[encoded data removed]",
      "text/plain": [
       "<Figure size 720x720 with 1 Axes>"
      ]
     },
     "metadata": {
      "needs_background": "light"
     },
     "output_type": "display_data"
    }
   ],
   "source": [
    "ny,nx = int(apsize_pix.max()+1),len(wavelength)\n",
    "shape = (ny,nx)\n",
    "grism_bucket = np.zeros(shape)\n",
    "plt.figure(figsize=(10,10)),plt.imshow(grism_bucket,origin='lower')\n"
   ]
  },
  {
   "cell_type": "code",
   "execution_count": 47,
   "metadata": {},
   "outputs": [
    {
     "name": "stdout",
     "output_type": "stream",
     "text": [
      "0 8850.0 0 0.459\n",
      "0 8850.0 1 0.825\n",
      "0 8850.0 2 0.89\n",
      "0 8850.0 3 0.92\n",
      "0 8850.0 4 0.939\n",
      "0 8850.0 5 0.952\n",
      "0 8850.0 6 0.962\n",
      "0 8850.0 7 0.969\n",
      "0 8850.0 8 0.985\n",
      "0 8850.0 9 0.995\n",
      "0 8850.0 10 0.999\n",
      "0 8850.0 11 1.0\n"
     ]
    }
   ],
   "source": [
    "for ii,i in enumerate(wavelength):\n",
    "    if ii!=0:\n",
    "        continue\n",
    "    t = apcorr[:,ii]\n",
    "    for jj,j in enumerate(t):\n",
    "        print(ii,i,jj,j)\n",
    "    "
   ]
  },
  {
   "cell_type": "markdown",
   "metadata": {},
   "source": [
    "# EoD\n",
    "We will continue this tomorrow :)"
   ]
  },
  {
   "cell_type": "code",
   "execution_count": null,
   "metadata": {},
   "outputs": [],
   "source": []
  },
  {
   "cell_type": "code",
   "execution_count": null,
   "metadata": {},
   "outputs": [],
   "source": []
  }
 ],
 "metadata": {
  "kernelspec": {
   "display_name": "Python 3",
   "language": "python",
   "name": "python3"
  },
  "language_info": {
   "codemirror_mode": {
    "name": "ipython",
    "version": 3
   },
   "file_extension": ".py",
   "mimetype": "text/x-python",
   "name": "python",
   "nbconvert_exporter": "python",
   "pygments_lexer": "ipython3",
   "version": "3.7.6"
  }
 },
 "nbformat": 4,
 "nbformat_minor": 4
}
